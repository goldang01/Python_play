{
 "cells": [
  {
   "cell_type": "markdown",
   "id": "76a83a6b",
   "metadata": {},
   "source": [
    "# 데이터 다운로드"
   ]
  },
  {
   "cell_type": "code",
   "execution_count": 1,
   "id": "59c808b5",
   "metadata": {},
   "outputs": [
    {
     "name": "stdout",
     "output_type": "stream",
     "text": [
      "--2021-08-14 16:44:04--  https://bit.ly/3gLj0Q6\n",
      "Resolving bit.ly (bit.ly)... 67.199.248.11, 67.199.248.10\n",
      "Connecting to bit.ly (bit.ly)|67.199.248.11|:443... connected.\n",
      "HTTP request sent, awaiting response... 301 Moved Permanently\n",
      "Location: https://drive.google.com/uc?export=download&id=1or_QN1ksv81DNog6Tu_kWcZ5jJWf5W9E [following]\n",
      "--2021-08-14 16:44:05--  https://drive.google.com/uc?export=download&id=1or_QN1ksv81DNog6Tu_kWcZ5jJWf5W9E\n",
      "Resolving drive.google.com (drive.google.com)... 216.58.220.110, 2404:6800:4004:812::200e\n",
      "Connecting to drive.google.com (drive.google.com)|216.58.220.110|:443... connected.\n",
      "HTTP request sent, awaiting response... 302 Moved Temporarily\n",
      "Location: https://doc-0c-10-docs.googleusercontent.com/docs/securesc/ha0ro937gcuc7l7deffksulhg5h7mbp1/m78dh29belgqghkuschgk4l1ekd5fl67/1628927025000/17946651057176172524/*/1or_QN1ksv81DNog6Tu_kWcZ5jJWf5W9E?e=download [following]\n",
      "Warning: wildcards not supported in HTTP.\n",
      "--2021-08-14 16:44:05--  https://doc-0c-10-docs.googleusercontent.com/docs/securesc/ha0ro937gcuc7l7deffksulhg5h7mbp1/m78dh29belgqghkuschgk4l1ekd5fl67/1628927025000/17946651057176172524/*/1or_QN1ksv81DNog6Tu_kWcZ5jJWf5W9E?e=download\n",
      "Resolving doc-0c-10-docs.googleusercontent.com (doc-0c-10-docs.googleusercontent.com)... 172.217.175.65, 2404:6800:4004:81c::2001\n",
      "Connecting to doc-0c-10-docs.googleusercontent.com (doc-0c-10-docs.googleusercontent.com)|172.217.175.65|:443... connected.\n",
      "HTTP request sent, awaiting response... 200 OK\n",
      "Length: 39208 (38K) [application/zip]\n",
      "Saving to: ‘3gLj0Q6’\n",
      "\n",
      "3gLj0Q6             100%[===================>]  38.29K  --.-KB/s    in 0.05s   \n",
      "\n",
      "2021-08-14 16:44:06 (809 KB/s) - ‘3gLj0Q6’ saved [39208/39208]\n",
      "\n"
     ]
    }
   ],
   "source": [
    "!wget 'https://bit.ly/3gLj0Q6'\n",
    "\n",
    "import zipfile\n",
    "with zipfile.ZipFile('3gLj0Q6', 'r') as existing_zip:\n",
    "    existing_zip.extractall('data')"
   ]
  },
  {
   "cell_type": "code",
   "execution_count": 2,
   "id": "ad672b1f",
   "metadata": {},
   "outputs": [],
   "source": [
    "import pandas as pd\n",
    "\n",
    "train = pd.read_csv('./data/train.csv')"
   ]
  },
  {
   "cell_type": "code",
   "execution_count": 6,
   "id": "762fe048",
   "metadata": {},
   "outputs": [],
   "source": [
    "test = pd.read_csv('./data/test.csv')"
   ]
  },
  {
   "cell_type": "markdown",
   "id": "19435045",
   "metadata": {},
   "source": [
    "read_csv() 를 통해 csv 파일을 pandas 라이브러리에서 제공하는 DataFrame 객체로 변환했다면, 우선 불러온 데이터의 행과 열의 갯수를 shape attribute 로 관찰할 수 있습니다."
   ]
  },
  {
   "cell_type": "code",
   "execution_count": 7,
   "id": "ff7b9911",
   "metadata": {},
   "outputs": [
    {
     "data": {
      "text/plain": [
       "(1459, 11)"
      ]
     },
     "execution_count": 7,
     "metadata": {},
     "output_type": "execute_result"
    }
   ],
   "source": [
    "train.shape"
   ]
  },
  {
   "cell_type": "code",
   "execution_count": 8,
   "id": "f84e8c20",
   "metadata": {},
   "outputs": [
    {
     "data": {
      "text/plain": [
       "(715, 10)"
      ]
     },
     "execution_count": 8,
     "metadata": {},
     "output_type": "execute_result"
    }
   ],
   "source": [
    "test.shape"
   ]
  },
  {
   "cell_type": "code",
   "execution_count": 13,
   "id": "e04e479b",
   "metadata": {},
   "outputs": [
    {
     "name": "stdout",
     "output_type": "stream",
     "text": [
      "         id   hour  hour_bef_temperature  hour_bef_precipitation  \\\n",
      "0     False  False                 False                   False   \n",
      "1     False  False                 False                   False   \n",
      "2     False  False                 False                   False   \n",
      "3     False  False                 False                   False   \n",
      "4     False  False                 False                   False   \n",
      "...     ...    ...                   ...                     ...   \n",
      "1454  False  False                 False                   False   \n",
      "1455  False  False                 False                   False   \n",
      "1456  False  False                 False                   False   \n",
      "1457  False  False                 False                   False   \n",
      "1458  False  False                 False                   False   \n",
      "\n",
      "      hour_bef_windspeed  hour_bef_humidity  hour_bef_visibility  \\\n",
      "0                  False              False                False   \n",
      "1                  False              False                False   \n",
      "2                  False              False                False   \n",
      "3                  False              False                False   \n",
      "4                  False              False                False   \n",
      "...                  ...                ...                  ...   \n",
      "1454               False              False                False   \n",
      "1455               False              False                False   \n",
      "1456               False              False                False   \n",
      "1457               False              False                False   \n",
      "1458               False              False                False   \n",
      "\n",
      "      hour_bef_ozone  hour_bef_pm10  hour_bef_pm2.5  count  \n",
      "0              False          False           False  False  \n",
      "1              False          False           False  False  \n",
      "2              False          False           False  False  \n",
      "3              False          False           False  False  \n",
      "4              False          False           False  False  \n",
      "...              ...            ...             ...    ...  \n",
      "1454           False          False           False  False  \n",
      "1455           False          False           False  False  \n",
      "1456           False          False           False  False  \n",
      "1457           False          False           False  False  \n",
      "1458           False          False           False  False  \n",
      "\n",
      "[1459 rows x 11 columns]\n",
      "\n",
      "--------------------------------train.csv 각 열 별 결측치 수--------------------------------\n",
      "\n",
      "id                         0\n",
      "hour                       0\n",
      "hour_bef_temperature       1\n",
      "hour_bef_precipitation     1\n",
      "hour_bef_windspeed         1\n",
      "hour_bef_humidity          1\n",
      "hour_bef_visibility        1\n",
      "hour_bef_ozone            35\n",
      "hour_bef_pm10             37\n",
      "hour_bef_pm2.5            36\n",
      "dtype: int64\n"
     ]
    }
   ],
   "source": [
    "print(train.isnull())\n",
    "print('\\n--------------------------------train.csv 각 열 별 결측치 수--------------------------------\\n')\n",
    "print(test.isnull().sum())"
   ]
  },
  {
   "cell_type": "code",
   "execution_count": null,
   "id": "776ae31d",
   "metadata": {},
   "outputs": [],
   "source": []
  }
 ],
 "metadata": {
  "kernelspec": {
   "display_name": "Python 3",
   "language": "python",
   "name": "python3"
  },
  "language_info": {
   "codemirror_mode": {
    "name": "ipython",
    "version": 3
   },
   "file_extension": ".py",
   "mimetype": "text/x-python",
   "name": "python",
   "nbconvert_exporter": "python",
   "pygments_lexer": "ipython3",
   "version": "3.8.8"
  }
 },
 "nbformat": 4,
 "nbformat_minor": 5
}
