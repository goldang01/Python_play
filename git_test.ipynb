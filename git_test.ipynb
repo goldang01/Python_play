{
 "cells": [
  {
   "cell_type": "markdown",
   "id": "fcd9db86",
   "metadata": {},
   "source": [
    "## 파일 읽기\n",
    "- 파이썬 기본 모듈 사용해서 읽기\n",
    "- 판다스를 이용한 데이터 읽기"
   ]
  },
  {
   "cell_type": "code",
   "execution_count": 2,
   "id": "45a9d806",
   "metadata": {},
   "outputs": [
    {
     "name": "stdout",
     "output_type": "stream",
     "text": [
      "data/1.jpg\t\tdata/product_df_total.csv  data/test.csv\r\n",
      "data/naver_crawler.csv\tdata/submission.csv\t   data/train.csv\r\n",
      "\r\n",
      "data/__MACOSX:\r\n"
     ]
    }
   ],
   "source": [
    "!ls data/* "
   ]
  },
  {
   "cell_type": "code",
   "execution_count": 3,
   "id": "23251ecc",
   "metadata": {},
   "outputs": [],
   "source": [
    "filelist = !ls data/* "
   ]
  },
  {
   "cell_type": "code",
   "execution_count": 4,
   "id": "06b08887",
   "metadata": {},
   "outputs": [
    {
     "data": {
      "text/plain": [
       "['data/1.jpg',\n",
       " 'data/naver_crawler.csv',\n",
       " 'data/product_df_total.csv',\n",
       " 'data/submission.csv',\n",
       " 'data/test.csv',\n",
       " 'data/train.csv',\n",
       " '',\n",
       " 'data/__MACOSX:']"
      ]
     },
     "execution_count": 4,
     "metadata": {},
     "output_type": "execute_result"
    }
   ],
   "source": [
    "filelist"
   ]
  },
  {
   "cell_type": "code",
   "execution_count": 5,
   "id": "aaaea6fc",
   "metadata": {},
   "outputs": [
    {
     "data": {
      "text/plain": [
       "IPython.utils.text.SList"
      ]
     },
     "execution_count": 5,
     "metadata": {},
     "output_type": "execute_result"
    }
   ],
   "source": [
    "type(filelist)"
   ]
  },
  {
   "cell_type": "code",
   "execution_count": 6,
   "id": "f7260cd2",
   "metadata": {},
   "outputs": [],
   "source": [
    "import cv2"
   ]
  },
  {
   "cell_type": "code",
   "execution_count": null,
   "id": "21d2ab57",
   "metadata": {},
   "outputs": [],
   "source": []
  }
 ],
 "metadata": {
  "kernelspec": {
   "display_name": "Python 3",
   "language": "python",
   "name": "python3"
  },
  "language_info": {
   "codemirror_mode": {
    "name": "ipython",
    "version": 3
   },
   "file_extension": ".py",
   "mimetype": "text/x-python",
   "name": "python",
   "nbconvert_exporter": "python",
   "pygments_lexer": "ipython3",
   "version": "3.8.8"
  }
 },
 "nbformat": 4,
 "nbformat_minor": 5
}
